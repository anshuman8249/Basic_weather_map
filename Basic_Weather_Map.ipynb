{
  "nbformat": 4,
  "nbformat_minor": 0,
  "metadata": {
    "colab": {
      "provenance": []
    },
    "kernelspec": {
      "name": "python3",
      "display_name": "Python 3"
    },
    "language_info": {
      "name": "python"
    }
  },
  "cells": [
    {
      "cell_type": "markdown",
      "source": [
        " Project Overview\n",
        "\n",
        "-> Goal: Build a command-line app that:\n",
        "\n",
        "-> Asks the user for a location (e.g., city name).\n",
        "\n",
        "-> Connects to a weather API (like OpenWeatherMap).\n",
        "\n",
        "-> Retrieves and displays:\n",
        "\n",
        "-> 🌡️ Temperature\n",
        "\n",
        "-> 💧 Humidity\n",
        "\n",
        "-> 🌤️ Weather description (e.g., \"Clear sky\", \"Rain\")"
      ],
      "metadata": {
        "id": "AGX6D45YtjmI"
      }
    },
    {
      "cell_type": "markdown",
      "source": [
        "Key Concepts\n",
        "\n",
        "-> APIs: Sending HTTP requests and receiving JSON responses.\n",
        "\n",
        "-> JSON Parsing: Extracting specific fields from API responses.\n",
        "\n",
        "-> Input Validation: Ensuring valid and meaningful user input.\n",
        "\n",
        "-> Error Handling: Handling network issues and bad input (e.g., invalid city).\n",
        "\n"
      ],
      "metadata": {
        "id": "VobrOskLujX6"
      }
    },
    {
      "cell_type": "code",
      "execution_count": null,
      "metadata": {
        "colab": {
          "base_uri": "https://localhost:8080/"
        },
        "id": "oGJ5L-oaouW5",
        "outputId": "19c11d28-20a9-4e74-e620-36898bdb1f5c"
      },
      "outputs": [
        {
          "output_type": "stream",
          "name": "stdout",
          "text": [
            "Requirement already satisfied: requests in /usr/local/lib/python3.11/dist-packages (2.32.3)\n",
            "Requirement already satisfied: charset-normalizer<4,>=2 in /usr/local/lib/python3.11/dist-packages (from requests) (3.4.2)\n",
            "Requirement already satisfied: idna<4,>=2.5 in /usr/local/lib/python3.11/dist-packages (from requests) (3.10)\n",
            "Requirement already satisfied: urllib3<3,>=1.21.1 in /usr/local/lib/python3.11/dist-packages (from requests) (2.5.0)\n",
            "Requirement already satisfied: certifi>=2017.4.17 in /usr/local/lib/python3.11/dist-packages (from requests) (2025.7.14)\n"
          ]
        }
      ],
      "source": [
        "pip install requests\n"
      ]
    },
    {
      "cell_type": "code",
      "source": [
        "import requests\n",
        "\n",
        "def get_weather(city, api_key):\n",
        "    base_url = \"https://api.openweathermap.org/data/2.5/weather\"\n",
        "    params = {\n",
        "        \"q\": city,\n",
        "        \"appid\": api_key,\n",
        "        \"units\": \"metric\"\n",
        "    }\n",
        "\n",
        "    try:\n",
        "        response = requests.get(base_url, params=params)\n",
        "        data = response.json()\n",
        "\n",
        "        if response.status_code != 200:\n",
        "            print(f\"Error: {data.get('message', 'Unable to fetch weather data.')}\")\n",
        "            return\n",
        "\n",
        "        name = data[\"name\"]\n",
        "        country = data[\"sys\"][\"country\"]\n",
        "        temp = data[\"main\"][\"temp\"]\n",
        "        humidity = data[\"main\"][\"humidity\"]\n",
        "        condition = data[\"weather\"][0][\"description\"].capitalize()\n",
        "\n",
        "        print(f\"\\nWeather in {name}, {country}:\")\n",
        "        print(f\"Temperature: {temp}°C\")\n",
        "        print(f\"Humidity: {humidity}%\")\n",
        "        print(f\"Condition: {condition}\")\n",
        "\n",
        "    except requests.RequestException as e:\n",
        "        print(\"Network error:\", e)\n",
        "\n",
        "def main():\n",
        "    print(\"🌦️  Simple Weather App 🌦️\")\n",
        "    api_key = \"82145769baa91d68120061fd7a988699\"\n",
        "    city = input(\"Enter a city name: \").strip()\n",
        "\n",
        "    if not city:\n",
        "        print(\"Please enter a valid city name.\")\n",
        "        return\n",
        "\n",
        "    get_weather(city, api_key)\n",
        "\n",
        "if __name__ == \"__main__\":\n",
        "    main()\n"
      ],
      "metadata": {
        "colab": {
          "base_uri": "https://localhost:8080/"
        },
        "id": "pnkmWHfKqNQq",
        "outputId": "a89059fd-9dc7-4166-f770-0de04b25703b"
      },
      "execution_count": null,
      "outputs": [
        {
          "output_type": "stream",
          "name": "stdout",
          "text": [
            "🌦️  Simple Weather App 🌦️\n"
          ]
        }
      ]
    },
    {
      "cell_type": "code",
      "source": [],
      "metadata": {
        "id": "HBSZMlqJqTVM"
      },
      "execution_count": null,
      "outputs": []
    }
  ]
}